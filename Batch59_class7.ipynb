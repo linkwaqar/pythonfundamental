{
 "cells": [
  {
   "cell_type": "code",
   "execution_count": null,
   "id": "00a6d0a4",
   "metadata": {},
   "outputs": [],
   "source": [
    "#Missed the first 10 minutes as joined late"
   ]
  },
  {
   "cell_type": "code",
   "execution_count": null,
   "id": "869e97eb",
   "metadata": {},
   "outputs": [],
   "source": [
    "#req I want to modify number 7"
   ]
  },
  {
   "cell_type": "code",
   "execution_count": 4,
   "id": "418d1d0d",
   "metadata": {},
   "outputs": [
    {
     "ename": "SyntaxError",
     "evalue": "invalid syntax (2670800535.py, line 1)",
     "output_type": "error",
     "traceback": [
      "\u001b[1;36m  Input \u001b[1;32mIn [4]\u001b[1;36m\u001b[0m\n\u001b[1;33m    numbers{1}=7\u001b[0m\n\u001b[1;37m           ^\u001b[0m\n\u001b[1;31mSyntaxError\u001b[0m\u001b[1;31m:\u001b[0m invalid syntax\n"
     ]
    }
   ],
   "source": [
    "numbers{1}=7"
   ]
  },
  {
   "cell_type": "code",
   "execution_count": 3,
   "id": "67f1938b",
   "metadata": {},
   "outputs": [
    {
     "name": "stdout",
     "output_type": "stream",
     "text": [
      "(100, 250)\n"
     ]
    }
   ],
   "source": [
    "dimesnions = (100,250)\n",
    "print (dimesnions)"
   ]
  },
  {
   "cell_type": "markdown",
   "id": "89673d3b",
   "metadata": {},
   "source": [
    "dimensions =(150,250)"
   ]
  },
  {
   "cell_type": "code",
   "execution_count": 5,
   "id": "9988c95e",
   "metadata": {},
   "outputs": [
    {
     "name": "stdout",
     "output_type": "stream",
     "text": [
      "(150, 250)\n"
     ]
    }
   ],
   "source": [
    "dimensions = (150,250)\n",
    "print (dimensions)"
   ]
  },
  {
   "cell_type": "code",
   "execution_count": 7,
   "id": "9cad9063",
   "metadata": {},
   "outputs": [
    {
     "name": "stdout",
     "output_type": "stream",
     "text": [
      "('Ali', 'Faizan', 'Shahid', 'Iqra')\n"
     ]
    }
   ],
   "source": [
    "students=('Ali', 'Faizan', 'Shahid', 'Iqra')\n",
    "print(students)"
   ]
  },
  {
   "cell_type": "code",
   "execution_count": 9,
   "id": "5ad2b263",
   "metadata": {},
   "outputs": [
    {
     "data": {
      "text/plain": [
       "tuple"
      ]
     },
     "execution_count": 9,
     "metadata": {},
     "output_type": "execute_result"
    }
   ],
   "source": [
    "type(students)"
   ]
  },
  {
   "cell_type": "code",
   "execution_count": 10,
   "id": "8f297ce0",
   "metadata": {},
   "outputs": [
    {
     "name": "stdout",
     "output_type": "stream",
     "text": [
      "Faizan\n"
     ]
    }
   ],
   "source": [
    "print(students[1])"
   ]
  },
  {
   "cell_type": "code",
   "execution_count": 11,
   "id": "fa9a9d58",
   "metadata": {},
   "outputs": [
    {
     "name": "stdout",
     "output_type": "stream",
     "text": [
      "Faizan\n"
     ]
    }
   ],
   "source": [
    "print(students[1].title())"
   ]
  },
  {
   "cell_type": "code",
   "execution_count": 13,
   "id": "6ebfac54",
   "metadata": {},
   "outputs": [
    {
     "name": "stdout",
     "output_type": "stream",
     "text": [
      "Ali\n",
      "Faizan\n",
      "Shahid\n",
      "Iqra\n"
     ]
    }
   ],
   "source": [
    "for a in students:\n",
    "    print(a)"
   ]
  },
  {
   "cell_type": "code",
   "execution_count": 17,
   "id": "cfb7f24b",
   "metadata": {},
   "outputs": [],
   "source": [
    "#Intoduction to Dictionary\n",
    "#Dictionary is a combination of key value pairs\n",
    "#classification : It is classified as mutable data type\n",
    "#how to define dictionary data type ====>{}\n",
    "#short form it is written as dict"
   ]
  },
  {
   "cell_type": "code",
   "execution_count": null,
   "id": "8dcbaadc",
   "metadata": {},
   "outputs": [],
   "source": []
  },
  {
   "cell_type": "code",
   "execution_count": 19,
   "id": "e8cbc230",
   "metadata": {},
   "outputs": [
    {
     "name": "stdout",
     "output_type": "stream",
     "text": [
      "{'color': 'green', 'points': 5}\n"
     ]
    }
   ],
   "source": [
    "alien ={'color':'green', 'points':5}\n",
    "print(alien)"
   ]
  },
  {
   "cell_type": "code",
   "execution_count": 20,
   "id": "06b7cf89",
   "metadata": {},
   "outputs": [
    {
     "data": {
      "text/plain": [
       "dict"
      ]
     },
     "execution_count": 20,
     "metadata": {},
     "output_type": "execute_result"
    }
   ],
   "source": [
    "type (alien)"
   ]
  },
  {
   "cell_type": "code",
   "execution_count": 22,
   "id": "f7e85b75",
   "metadata": {},
   "outputs": [
    {
     "name": "stdout",
     "output_type": "stream",
     "text": [
      "{'username': 'codetraining', 'first name': 'code', 'last name': 'training', 'dob': '01-01-2020', 'pwd': '54321'}\n"
     ]
    }
   ],
   "source": [
    "useraccount ={'username': 'codetraining', 'first name':'code', 'last name':'training','dob':'01-01-2020','pwd':'54321'}\n",
    "print (useraccount)"
   ]
  },
  {
   "cell_type": "code",
   "execution_count": 24,
   "id": "20e90806",
   "metadata": {},
   "outputs": [
    {
     "name": "stdout",
     "output_type": "stream",
     "text": [
      "username\n",
      "first name\n",
      "last name\n",
      "dob\n",
      "pwd\n"
     ]
    }
   ],
   "source": [
    "for a in useraccount:\n",
    "    print(a)"
   ]
  },
  {
   "cell_type": "code",
   "execution_count": 34,
   "id": "9adebb7d",
   "metadata": {},
   "outputs": [
    {
     "name": "stdout",
     "output_type": "stream",
     "text": [
      "username pwd\n",
      "first name pwd\n",
      "last name pwd\n",
      "dob pwd\n",
      "pwd pwd\n"
     ]
    }
   ],
   "source": [
    "for a in useraccount:\n",
    "    print(a,b)"
   ]
  },
  {
   "cell_type": "code",
   "execution_count": null,
   "id": "7cd101ce",
   "metadata": {},
   "outputs": [],
   "source": [
    "#learn how to print both lines together"
   ]
  }
 ],
 "metadata": {
  "kernelspec": {
   "display_name": "Python 3 (ipykernel)",
   "language": "python",
   "name": "python3"
  },
  "language_info": {
   "codemirror_mode": {
    "name": "ipython",
    "version": 3
   },
   "file_extension": ".py",
   "mimetype": "text/x-python",
   "name": "python",
   "nbconvert_exporter": "python",
   "pygments_lexer": "ipython3",
   "version": "3.9.12"
  }
 },
 "nbformat": 4,
 "nbformat_minor": 5
}
