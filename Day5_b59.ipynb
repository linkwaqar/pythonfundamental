{
 "cells": [
  {
   "cell_type": "code",
   "execution_count": null,
   "id": "611123d2-edd5-4275-bd26-86012b12a554",
   "metadata": {
    "tags": []
   },
   "outputs": [],
   "source": [
    "#organizing the list datatype:"
   ]
  },
  {
   "cell_type": "code",
   "execution_count": 32,
   "id": "04730bc0-6faa-462e-877d-de78ca17a4bd",
   "metadata": {},
   "outputs": [],
   "source": [
    "students =['rajesh', 'naveed', 'vindya', 'aana', 'laiba', 'radhika','nikhil']"
   ]
  },
  {
   "cell_type": "code",
   "execution_count": 33,
   "id": "eb8975f8-1244-4d6c-a612-d5ba286efadf",
   "metadata": {},
   "outputs": [
    {
     "name": "stdout",
     "output_type": "stream",
     "text": [
      "['rajesh', 'naveed', 'vindya', 'aana', 'laiba', 'radhika', 'nikhil']\n"
     ]
    }
   ],
   "source": [
    "print(students)"
   ]
  },
  {
   "cell_type": "code",
   "execution_count": 34,
   "id": "77b5654d-ec35-4c76-a4a6-aad6e7544493",
   "metadata": {},
   "outputs": [],
   "source": [
    "#req : I wanted to print naveed name, what is index I have to use...?"
   ]
  },
  {
   "cell_type": "code",
   "execution_count": 35,
   "id": "c2aa58ad-128b-4b5a-b8c3-9f4d0830bdd1",
   "metadata": {},
   "outputs": [
    {
     "name": "stdout",
     "output_type": "stream",
     "text": [
      "naveed\n"
     ]
    }
   ],
   "source": [
    "print(students[1])"
   ]
  },
  {
   "cell_type": "code",
   "execution_count": 36,
   "id": "5674288e-eab9-4279-a4ac-448cf9a895fd",
   "metadata": {},
   "outputs": [
    {
     "name": "stdout",
     "output_type": "stream",
     "text": [
      "rajesh\n"
     ]
    }
   ],
   "source": [
    "print(students[0])"
   ]
  },
  {
   "cell_type": "code",
   "execution_count": 37,
   "id": "b71d3487-735a-448a-b73b-0fdc0af8d80f",
   "metadata": {},
   "outputs": [
    {
     "name": "stdout",
     "output_type": "stream",
     "text": [
      "Naveed\n"
     ]
    }
   ],
   "source": [
    "print(students[1].title())"
   ]
  },
  {
   "cell_type": "code",
   "execution_count": 38,
   "id": "9aee2f66-61e9-4a17-b80d-8b8667a3d3b4",
   "metadata": {},
   "outputs": [],
   "source": [
    "cars =[\"kia\",\"audi\", \"ciaz\", \"benz\", \"suzuki\", \"bmw\"]"
   ]
  },
  {
   "cell_type": "code",
   "execution_count": 39,
   "id": "8db61235-ee18-4da3-8cbd-07298220a46a",
   "metadata": {},
   "outputs": [
    {
     "name": "stdout",
     "output_type": "stream",
     "text": [
      "['kia', 'audi', 'ciaz', 'benz', 'suzuki', 'bmw']\n"
     ]
    }
   ],
   "source": [
    "print(cars)"
   ]
  },
  {
   "cell_type": "code",
   "execution_count": null,
   "id": "14385855-c0f3-4746-8ca6-262e552b7f0d",
   "metadata": {},
   "outputs": [],
   "source": [
    "# I want to arrange the above list in the alphabetical order...A-Z"
   ]
  },
  {
   "cell_type": "code",
   "execution_count": 41,
   "id": "83b08bd5-8ff5-44eb-8e1b-d1ad1d6d4e2b",
   "metadata": {},
   "outputs": [],
   "source": [
    "#two approaches:1. temp approach---> sorting --> we can retain orgiinal oder 2. permanent approach --> sort ---> changes are applied permanenty"
   ]
  },
  {
   "cell_type": "code",
   "execution_count": 42,
   "id": "3730a820-1e18-453c-bb6f-ad83675391b2",
   "metadata": {},
   "outputs": [
    {
     "name": "stdout",
     "output_type": "stream",
     "text": [
      "['audi', 'benz', 'bmw', 'ciaz', 'kia', 'suzuki']\n"
     ]
    }
   ],
   "source": [
    "print(sorted(cars))"
   ]
  },
  {
   "cell_type": "code",
   "execution_count": 44,
   "id": "accbb0b8-50b4-47b5-afdb-ba5daaa35a32",
   "metadata": {},
   "outputs": [],
   "source": [
    "#benz and bmw ===> e and m"
   ]
  },
  {
   "cell_type": "code",
   "execution_count": 45,
   "id": "cff62bb6-38de-4509-b17c-386015d52051",
   "metadata": {},
   "outputs": [
    {
     "name": "stdout",
     "output_type": "stream",
     "text": [
      "['kia', 'audi', 'ciaz', 'benz', 'suzuki', 'bmw']\n"
     ]
    }
   ],
   "source": [
    "print(cars)"
   ]
  },
  {
   "cell_type": "code",
   "execution_count": 46,
   "id": "ef2824e8-519c-41b9-bfb5-376efd6bcca5",
   "metadata": {},
   "outputs": [],
   "source": [
    "cars.sort()"
   ]
  },
  {
   "cell_type": "code",
   "execution_count": 47,
   "id": "8f7a1a3d-b10e-4370-ba79-e67d314673bd",
   "metadata": {},
   "outputs": [
    {
     "name": "stdout",
     "output_type": "stream",
     "text": [
      "['audi', 'benz', 'bmw', 'ciaz', 'kia', 'suzuki']\n"
     ]
    }
   ],
   "source": [
    "print(cars)"
   ]
  },
  {
   "cell_type": "code",
   "execution_count": 48,
   "id": "ed2430fb-f00b-4027-9a16-f0e752d83141",
   "metadata": {},
   "outputs": [],
   "source": [
    "#Interview question: what is the difference between sorted and sort method in a list...?"
   ]
  },
  {
   "cell_type": "code",
   "execution_count": null,
   "id": "3757a3b5-9f69-4e07-96c1-fbcfff3aa61f",
   "metadata": {},
   "outputs": [],
   "source": [
    "#req: i wnat to print the list in the reverse order ...?"
   ]
  },
  {
   "cell_type": "code",
   "execution_count": 51,
   "id": "1b4dede9-009b-4ded-a4c1-c532baa28895",
   "metadata": {
    "tags": []
   },
   "outputs": [
    {
     "name": "stdout",
     "output_type": "stream",
     "text": [
      "['audi', 'benz', 'bmw', 'ciaz', 'kia', 'suzuki']\n"
     ]
    }
   ],
   "source": [
    "print(cars)"
   ]
  },
  {
   "cell_type": "code",
   "execution_count": 60,
   "id": "813a90f5-ca32-4144-8f50-0ecdcba1275d",
   "metadata": {},
   "outputs": [],
   "source": [
    "cars.reverse()"
   ]
  },
  {
   "cell_type": "code",
   "execution_count": 61,
   "id": "3c5737d9-7b33-42e3-843e-d72ccda215fd",
   "metadata": {},
   "outputs": [
    {
     "name": "stdout",
     "output_type": "stream",
     "text": [
      "['suzuki', 'kia', 'ciaz', 'bmw', 'benz', 'audi']\n"
     ]
    }
   ],
   "source": [
    "print(cars)"
   ]
  },
  {
   "cell_type": "code",
   "execution_count": null,
   "id": "4ad7a57e-153d-4110-928a-92ffe42d115f",
   "metadata": {},
   "outputs": [],
   "source": [
    "#req: I want to count the no of elements present in the list...?"
   ]
  },
  {
   "cell_type": "code",
   "execution_count": 62,
   "id": "7c12845d-fbd6-47d9-8b3e-f74b9e78c421",
   "metadata": {},
   "outputs": [
    {
     "data": {
      "text/plain": [
       "6"
      ]
     },
     "execution_count": 62,
     "metadata": {},
     "output_type": "execute_result"
    }
   ],
   "source": [
    "len(cars)"
   ]
  },
  {
   "cell_type": "code",
   "execution_count": 56,
   "id": "3363cffc-741e-4fff-9c1e-713497e02979",
   "metadata": {},
   "outputs": [],
   "source": [
    "#Slicing of the list datatype:"
   ]
  },
  {
   "cell_type": "code",
   "execution_count": 63,
   "id": "267b77ed-0f7d-48c3-ad9a-f46c21484034",
   "metadata": {},
   "outputs": [
    {
     "name": "stdout",
     "output_type": "stream",
     "text": [
      "['rajesh', 'naveed', 'vindya', 'aana', 'laiba', 'radhika', 'nikhil']\n"
     ]
    }
   ],
   "source": [
    "print(students)"
   ]
  },
  {
   "cell_type": "raw",
   "id": "55728167-c945-42a7-8730-8b2b06aa6aa2",
   "metadata": {},
   "source": [
    "print(list{startvalue: stop value: step count])"
   ]
  },
  {
   "cell_type": "code",
   "execution_count": 64,
   "id": "1abd8556-1d9c-4d01-a905-253766c0f640",
   "metadata": {},
   "outputs": [],
   "source": [
    "#Note: stop value is always exclusive, +1 to include the stop value."
   ]
  },
  {
   "cell_type": "code",
   "execution_count": 67,
   "id": "4735b000-3b11-4e6d-a38a-89e8c87708b2",
   "metadata": {
    "tags": []
   },
   "outputs": [
    {
     "name": "stdout",
     "output_type": "stream",
     "text": [
      "['rajesh']\n"
     ]
    }
   ],
   "source": [
    "print(students[0:1])"
   ]
  },
  {
   "cell_type": "code",
   "execution_count": 68,
   "id": "8c7d6301-1eed-4299-a39c-6dd8ed8703d5",
   "metadata": {},
   "outputs": [
    {
     "name": "stdout",
     "output_type": "stream",
     "text": [
      "['rajesh', 'naveed']\n"
     ]
    }
   ],
   "source": [
    "print(students[0:2])"
   ]
  },
  {
   "cell_type": "code",
   "execution_count": 69,
   "id": "fe6cf744-e39b-4734-960d-45588b3fcd2e",
   "metadata": {},
   "outputs": [
    {
     "name": "stdout",
     "output_type": "stream",
     "text": [
      "['vindya', 'aana']\n"
     ]
    }
   ],
   "source": [
    "print(students[2:4])"
   ]
  },
  {
   "cell_type": "code",
   "execution_count": 70,
   "id": "25be80be-0ee9-47f2-9594-64b9087a35ba",
   "metadata": {},
   "outputs": [
    {
     "name": "stdout",
     "output_type": "stream",
     "text": [
      "[]\n"
     ]
    }
   ],
   "source": [
    "print(students[2:2])"
   ]
  },
  {
   "cell_type": "code",
   "execution_count": 72,
   "id": "be6c735d-5d68-4c51-996b-9b4174fdb9be",
   "metadata": {},
   "outputs": [
    {
     "name": "stdout",
     "output_type": "stream",
     "text": [
      "['aana', 'laiba', 'radhika', 'nikhil']\n"
     ]
    }
   ],
   "source": [
    "print(students[3:7])"
   ]
  },
  {
   "cell_type": "code",
   "execution_count": 73,
   "id": "c93717b0-e4d3-409b-a2a2-45367846ef58",
   "metadata": {},
   "outputs": [
    {
     "name": "stdout",
     "output_type": "stream",
     "text": [
      "['rajesh', 'vindya', 'laiba', 'nikhil']\n"
     ]
    }
   ],
   "source": [
    "print(students[0:8:2])"
   ]
  },
  {
   "cell_type": "code",
   "execution_count": 79,
   "id": "4afbd97d-0e4c-46da-aec9-fef187d2950e",
   "metadata": {},
   "outputs": [
    {
     "name": "stdout",
     "output_type": "stream",
     "text": [
      "['naveed', 'aana', 'radhika']\n"
     ]
    }
   ],
   "source": [
    "print(students[1:7:2])"
   ]
  }
 ],
 "metadata": {
  "kernelspec": {
   "display_name": "Python 3 (ipykernel)",
   "language": "python",
   "name": "python3"
  },
  "language_info": {
   "codemirror_mode": {
    "name": "ipython",
    "version": 3
   },
   "file_extension": ".py",
   "mimetype": "text/x-python",
   "name": "python",
   "nbconvert_exporter": "python",
   "pygments_lexer": "ipython3",
   "version": "3.9.12"
  }
 },
 "nbformat": 4,
 "nbformat_minor": 5
}
